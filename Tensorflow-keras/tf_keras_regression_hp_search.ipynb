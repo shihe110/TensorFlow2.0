{
 "cells": [
  {
   "cell_type": "code",
   "execution_count": 1,
   "metadata": {},
   "outputs": [
    {
     "name": "stdout",
     "output_type": "stream",
     "text": [
      "2.0.0\n",
      "sys.version_info(major=3, minor=7, micro=4, releaselevel='final', serial=0)\n",
      "matplotlib 3.1.1\n",
      "numpy 1.17.3\n",
      "pandas 0.25.2\n",
      "sklearn 0.21.3\n",
      "tensorflow 2.0.0\n",
      "tensorflow_core.keras 2.2.4-tf\n"
     ]
    }
   ],
   "source": [
    "import matplotlib as mpl\n",
    "import matplotlib.pyplot as plt\n",
    "%matplotlib inline\n",
    "import numpy as np\n",
    "import sklearn\n",
    "import pandas as pd\n",
    "import os\n",
    "import sys\n",
    "import time\n",
    "import tensorflow as tf\n",
    "\n",
    "from tensorflow import keras\n",
    "\n",
    "print(tf.__version__)\n",
    "print(sys.version_info)\n",
    "for module in mpl, np, pd, sklearn, tf, keras:\n",
    "    print(module.__name__, module.__version__)"
   ]
  },
  {
   "cell_type": "code",
   "execution_count": 2,
   "metadata": {},
   "outputs": [
    {
     "name": "stderr",
     "output_type": "stream",
     "text": [
      "Downloading Cal. housing from https://ndownloader.figshare.com/files/5976036 to C:\\Users\\shihe\\scikit_learn_data\n"
     ]
    },
    {
     "name": "stdout",
     "output_type": "stream",
     "text": [
      ".. _california_housing_dataset:\n",
      "\n",
      "California Housing dataset\n",
      "--------------------------\n",
      "\n",
      "**Data Set Characteristics:**\n",
      "\n",
      "    :Number of Instances: 20640\n",
      "\n",
      "    :Number of Attributes: 8 numeric, predictive attributes and the target\n",
      "\n",
      "    :Attribute Information:\n",
      "        - MedInc        median income in block\n",
      "        - HouseAge      median house age in block\n",
      "        - AveRooms      average number of rooms\n",
      "        - AveBedrms     average number of bedrooms\n",
      "        - Population    block population\n",
      "        - AveOccup      average house occupancy\n",
      "        - Latitude      house block latitude\n",
      "        - Longitude     house block longitude\n",
      "\n",
      "    :Missing Attribute Values: None\n",
      "\n",
      "This dataset was obtained from the StatLib repository.\n",
      "http://lib.stat.cmu.edu/datasets/\n",
      "\n",
      "The target variable is the median house value for California districts.\n",
      "\n",
      "This dataset was derived from the 1990 U.S. census, using one row per census\n",
      "block group. A block group is the smallest geographical unit for which the U.S.\n",
      "Census Bureau publishes sample data (a block group typically has a population\n",
      "of 600 to 3,000 people).\n",
      "\n",
      "It can be downloaded/loaded using the\n",
      ":func:`sklearn.datasets.fetch_california_housing` function.\n",
      "\n",
      ".. topic:: References\n",
      "\n",
      "    - Pace, R. Kelley and Ronald Barry, Sparse Spatial Autoregressions,\n",
      "      Statistics and Probability Letters, 33 (1997) 291-297\n",
      "\n",
      "(20640, 8)\n",
      "(20640,)\n"
     ]
    }
   ],
   "source": [
    "from sklearn.datasets import fetch_california_housing\n",
    "\n",
    "housing = fetch_california_housing()\n",
    "print(housing.DESCR)\n",
    "print(housing.data.shape)\n",
    "print(housing.target.shape)"
   ]
  },
  {
   "cell_type": "code",
   "execution_count": 3,
   "metadata": {},
   "outputs": [
    {
     "name": "stdout",
     "output_type": "stream",
     "text": [
      "array([[ 8.32520000e+00,  4.10000000e+01,  6.98412698e+00,\n",
      "         1.02380952e+00,  3.22000000e+02,  2.55555556e+00,\n",
      "         3.78800000e+01, -1.22230000e+02],\n",
      "       [ 8.30140000e+00,  2.10000000e+01,  6.23813708e+00,\n",
      "         9.71880492e-01,  2.40100000e+03,  2.10984183e+00,\n",
      "         3.78600000e+01, -1.22220000e+02],\n",
      "       [ 7.25740000e+00,  5.20000000e+01,  8.28813559e+00,\n",
      "         1.07344633e+00,  4.96000000e+02,  2.80225989e+00,\n",
      "         3.78500000e+01, -1.22240000e+02],\n",
      "       [ 5.64310000e+00,  5.20000000e+01,  5.81735160e+00,\n",
      "         1.07305936e+00,  5.58000000e+02,  2.54794521e+00,\n",
      "         3.78500000e+01, -1.22250000e+02],\n",
      "       [ 3.84620000e+00,  5.20000000e+01,  6.28185328e+00,\n",
      "         1.08108108e+00,  5.65000000e+02,  2.18146718e+00,\n",
      "         3.78500000e+01, -1.22250000e+02]])\n",
      "array([4.526, 3.585, 3.521, 3.413, 3.422])\n"
     ]
    }
   ],
   "source": [
    "import pprint\n",
    "\n",
    "pprint.pprint(housing.data[0:5])\n",
    "pprint.pprint(housing.target[0:5])"
   ]
  },
  {
   "cell_type": "code",
   "execution_count": 4,
   "metadata": {},
   "outputs": [
    {
     "name": "stdout",
     "output_type": "stream",
     "text": [
      "(11610, 8) (11610,)\n",
      "(3870, 8) (3870,)\n",
      "(5160, 8) (5160,)\n"
     ]
    }
   ],
   "source": [
    "from sklearn.model_selection import train_test_split\n",
    "\n",
    "x_train_all, x_test, y_train_all, y_test = train_test_split(\n",
    "    housing.data, housing.target, random_state = 7)\n",
    "x_train, x_valid, y_train, y_valid = train_test_split(\n",
    "    x_train_all, y_train_all, random_state = 11)\n",
    "print(x_train.shape, y_train.shape)\n",
    "print(x_valid.shape, y_valid.shape)\n",
    "print(x_test.shape, y_test.shape)\n"
   ]
  },
  {
   "cell_type": "code",
   "execution_count": 5,
   "metadata": {},
   "outputs": [],
   "source": [
    "from sklearn.preprocessing import StandardScaler\n",
    "\n",
    "scaler = StandardScaler()\n",
    "x_train_scaled = scaler.fit_transform(x_train)\n",
    "x_valid_scaled = scaler.transform(x_valid)\n",
    "x_test_scaled = scaler.transform(x_test)"
   ]
  },
  {
   "cell_type": "code",
   "execution_count": 7,
   "metadata": {},
   "outputs": [
    {
     "name": "stdout",
     "output_type": "stream",
     "text": [
      "Train on 11610 samples, validate on 3870 samples\n",
      "Epoch 1/100\n",
      "11610/11610 [==============================] - 2s 131us/sample - loss: 5.8966 - val_loss: 5.1176\n",
      "Epoch 2/100\n",
      "11610/11610 [==============================] - 1s 44us/sample - loss: 4.0808 - val_loss: 3.6617\n",
      "Epoch 3/100\n",
      "11610/11610 [==============================] - 0s 36us/sample - loss: 2.9815 - val_loss: 2.7544\n",
      "Epoch 4/100\n",
      "11610/11610 [==============================] - 0s 38us/sample - loss: 2.2798 - val_loss: 2.1588\n",
      "Epoch 5/100\n",
      "11610/11610 [==============================] - 0s 38us/sample - loss: 1.8134 - val_loss: 1.7552\n",
      "Epoch 6/100\n",
      "11610/11610 [==============================] - 0s 38us/sample - loss: 1.4939 - val_loss: 1.4726\n",
      "Epoch 7/100\n",
      "11610/11610 [==============================] - 0s 39us/sample - loss: 1.2692 - val_loss: 1.2704\n",
      "Epoch 8/100\n",
      "11610/11610 [==============================] - 0s 37us/sample - loss: 1.1077 - val_loss: 1.1230\n",
      "Epoch 9/100\n",
      "11610/11610 [==============================] - 0s 41us/sample - loss: 0.9897 - val_loss: 1.0139\n",
      "Epoch 10/100\n",
      "11610/11610 [==============================] - 0s 39us/sample - loss: 0.9021 - val_loss: 0.9326\n",
      "Epoch 11/100\n",
      "11610/11610 [==============================] - 0s 38us/sample - loss: 0.8365 - val_loss: 0.8714\n",
      "Epoch 12/100\n",
      "11610/11610 [==============================] - 0s 40us/sample - loss: 0.7868 - val_loss: 0.8251\n",
      "Epoch 13/100\n",
      "11610/11610 [==============================] - 0s 38us/sample - loss: 0.7490 - val_loss: 0.7900\n",
      "Epoch 14/100\n",
      "11610/11610 [==============================] - 0s 37us/sample - loss: 0.7199 - val_loss: 0.7631\n",
      "Epoch 15/100\n",
      "11610/11610 [==============================] - 0s 42us/sample - loss: 0.6972 - val_loss: 0.7422\n",
      "Epoch 16/100\n",
      "11610/11610 [==============================] - 0s 37us/sample - loss: 0.6794 - val_loss: 0.7259\n",
      "Epoch 17/100\n",
      "11610/11610 [==============================] - 0s 37us/sample - loss: 0.6651 - val_loss: 0.7129\n",
      "Epoch 18/100\n",
      "11610/11610 [==============================] - 0s 38us/sample - loss: 0.6536 - val_loss: 0.7024\n",
      "Epoch 19/100\n",
      "11610/11610 [==============================] - 0s 38us/sample - loss: 0.6441 - val_loss: 0.6938\n",
      "Epoch 20/100\n",
      "11610/11610 [==============================] - 0s 38us/sample - loss: 0.6360 - val_loss: 0.6865\n",
      "Epoch 21/100\n",
      "11610/11610 [==============================] - 0s 38us/sample - loss: 0.6292 - val_loss: 0.6803\n",
      "Epoch 22/100\n",
      "11610/11610 [==============================] - 0s 39us/sample - loss: 0.6232 - val_loss: 0.6749\n",
      "Epoch 23/100\n",
      "11610/11610 [==============================] - 0s 38us/sample - loss: 0.6179 - val_loss: 0.6701\n",
      "Epoch 24/100\n",
      "11610/11610 [==============================] - 0s 40us/sample - loss: 0.6131 - val_loss: 0.6658\n",
      "Epoch 25/100\n",
      "11610/11610 [==============================] - 0s 37us/sample - loss: 0.6088 - val_loss: 0.6617\n",
      "Epoch 26/100\n",
      "11610/11610 [==============================] - 0s 39us/sample - loss: 0.6047 - val_loss: 0.6580\n",
      "Epoch 27/100\n",
      "11610/11610 [==============================] - 0s 36us/sample - loss: 0.6010 - val_loss: 0.6546\n",
      "Epoch 28/100\n",
      "11610/11610 [==============================] - 0s 37us/sample - loss: 0.5975 - val_loss: 0.6512\n",
      "Epoch 29/100\n",
      "11610/11610 [==============================] - 0s 39us/sample - loss: 0.5941 - val_loss: 0.6480\n",
      "Epoch 30/100\n",
      "11610/11610 [==============================] - 0s 40us/sample - loss: 0.5909 - val_loss: 0.6449\n",
      "Epoch 31/100\n",
      "11610/11610 [==============================] - 0s 39us/sample - loss: 0.5878 - val_loss: 0.6419\n",
      "Epoch 32/100\n",
      "11610/11610 [==============================] - 0s 39us/sample - loss: 0.5849 - val_loss: 0.6390\n",
      "Epoch 33/100\n",
      "11610/11610 [==============================] - 0s 40us/sample - loss: 0.5820 - val_loss: 0.6362\n",
      "Epoch 34/100\n",
      "11610/11610 [==============================] - 0s 39us/sample - loss: 0.5793 - val_loss: 0.6335\n",
      "Epoch 35/100\n",
      "11610/11610 [==============================] - 0s 40us/sample - loss: 0.5766 - val_loss: 0.6308\n",
      "Epoch 36/100\n",
      "11610/11610 [==============================] - 0s 39us/sample - loss: 0.5741 - val_loss: 0.6282\n",
      "Epoch 37/100\n",
      "11610/11610 [==============================] - 0s 37us/sample - loss: 0.5716 - val_loss: 0.6256\n",
      "Epoch 38/100\n",
      "11610/11610 [==============================] - 0s 39us/sample - loss: 0.5691 - val_loss: 0.6231\n",
      "Epoch 39/100\n",
      "11610/11610 [==============================] - 0s 36us/sample - loss: 0.5668 - val_loss: 0.6206\n",
      "Epoch 40/100\n",
      "11610/11610 [==============================] - 0s 37us/sample - loss: 0.5644 - val_loss: 0.6182\n",
      "Epoch 41/100\n",
      "11610/11610 [==============================] - 0s 39us/sample - loss: 0.5622 - val_loss: 0.6158\n",
      "Epoch 42/100\n",
      "11610/11610 [==============================] - 0s 37us/sample - loss: 0.5600 - val_loss: 0.6135\n",
      "Epoch 43/100\n",
      "11610/11610 [==============================] - 0s 38us/sample - loss: 0.5578 - val_loss: 0.6112\n",
      "Epoch 44/100\n",
      "11610/11610 [==============================] - 0s 42us/sample - loss: 0.5557 - val_loss: 0.6089\n",
      "Epoch 45/100\n",
      "11610/11610 [==============================] - 0s 40us/sample - loss: 0.5536 - val_loss: 0.6067\n",
      "Epoch 46/100\n",
      "11610/11610 [==============================] - 0s 39us/sample - loss: 0.5515 - val_loss: 0.6045\n",
      "Epoch 47/100\n",
      "11610/11610 [==============================] - 0s 41us/sample - loss: 0.5495 - val_loss: 0.6023\n",
      "Epoch 48/100\n",
      "11610/11610 [==============================] - 0s 42us/sample - loss: 0.5476 - val_loss: 0.6002\n",
      "Epoch 49/100\n",
      "11610/11610 [==============================] - 0s 40us/sample - loss: 0.5457 - val_loss: 0.5980\n",
      "Epoch 50/100\n",
      "11610/11610 [==============================] - 0s 40us/sample - loss: 0.5438 - val_loss: 0.5960\n",
      "Epoch 51/100\n",
      "11610/11610 [==============================] - 1s 43us/sample - loss: 0.5420 - val_loss: 0.5940\n",
      "Epoch 52/100\n",
      "11610/11610 [==============================] - 0s 38us/sample - loss: 0.5402 - val_loss: 0.5920\n",
      "Epoch 53/100\n",
      "11610/11610 [==============================] - 0s 42us/sample - loss: 0.5384 - val_loss: 0.5900\n",
      "Epoch 54/100\n",
      "11610/11610 [==============================] - 0s 42us/sample - loss: 0.5367 - val_loss: 0.5882\n",
      "Epoch 55/100\n",
      "11610/11610 [==============================] - 0s 39us/sample - loss: 0.5350 - val_loss: 0.5863\n",
      "Train on 11610 samples, validate on 3870 samples\n",
      "Epoch 1/100\n",
      "11610/11610 [==============================] - 1s 62us/sample - loss: 3.1175 - val_loss: 2.0846\n",
      "Epoch 2/100\n",
      "11610/11610 [==============================] - 0s 38us/sample - loss: 1.4943 - val_loss: 1.2743\n",
      "Epoch 3/100\n",
      "11610/11610 [==============================] - 0s 42us/sample - loss: 1.0131 - val_loss: 1.0012\n",
      "Epoch 4/100\n",
      "11610/11610 [==============================] - 0s 38us/sample - loss: 0.8483 - val_loss: 0.8934\n",
      "Epoch 5/100\n",
      "11610/11610 [==============================] - 0s 39us/sample - loss: 0.7830 - val_loss: 0.8417\n",
      "Epoch 6/100\n",
      "11610/11610 [==============================] - 0s 40us/sample - loss: 0.7508 - val_loss: 0.8111\n",
      "Epoch 7/100\n",
      "11610/11610 [==============================] - 0s 43us/sample - loss: 0.7310 - val_loss: 0.7899\n",
      "Epoch 8/100\n",
      "11610/11610 [==============================] - 0s 43us/sample - loss: 0.7162 - val_loss: 0.7731\n",
      "Epoch 9/100\n",
      "11610/11610 [==============================] - 0s 38us/sample - loss: 0.7038 - val_loss: 0.7594\n",
      "Epoch 10/100\n",
      "11610/11610 [==============================] - 0s 39us/sample - loss: 0.6930 - val_loss: 0.7469\n",
      "Epoch 11/100\n",
      "11610/11610 [==============================] - 0s 41us/sample - loss: 0.6829 - val_loss: 0.7353\n",
      "Epoch 12/100\n",
      "11610/11610 [==============================] - 0s 40us/sample - loss: 0.6736 - val_loss: 0.7250\n",
      "Epoch 13/100\n",
      "11610/11610 [==============================] - 0s 37us/sample - loss: 0.6648 - val_loss: 0.7155\n",
      "Epoch 14/100\n",
      "11610/11610 [==============================] - 0s 38us/sample - loss: 0.6565 - val_loss: 0.7066\n",
      "Epoch 15/100\n",
      "11610/11610 [==============================] - 0s 37us/sample - loss: 0.6486 - val_loss: 0.6981\n",
      "Epoch 16/100\n",
      "11610/11610 [==============================] - 0s 37us/sample - loss: 0.6411 - val_loss: 0.6902\n",
      "Epoch 17/100\n",
      "11610/11610 [==============================] - 0s 40us/sample - loss: 0.6339 - val_loss: 0.6823\n",
      "Epoch 18/100\n",
      "11610/11610 [==============================] - 0s 38us/sample - loss: 0.6272 - val_loss: 0.6752\n",
      "Epoch 19/100\n",
      "11610/11610 [==============================] - 0s 39us/sample - loss: 0.6207 - val_loss: 0.6682\n",
      "Epoch 20/100\n"
     ]
    },
    {
     "name": "stdout",
     "output_type": "stream",
     "text": [
      "11610/11610 [==============================] - 0s 39us/sample - loss: 0.6145 - val_loss: 0.6614\n",
      "Epoch 21/100\n",
      "11610/11610 [==============================] - 0s 40us/sample - loss: 0.6085 - val_loss: 0.6550\n",
      "Epoch 22/100\n",
      "11610/11610 [==============================] - 0s 38us/sample - loss: 0.6028 - val_loss: 0.6492\n",
      "Epoch 23/100\n",
      "11610/11610 [==============================] - 0s 39us/sample - loss: 0.5973 - val_loss: 0.6434\n",
      "Epoch 24/100\n",
      "11610/11610 [==============================] - 0s 37us/sample - loss: 0.5921 - val_loss: 0.6377\n",
      "Epoch 25/100\n",
      "11610/11610 [==============================] - 0s 39us/sample - loss: 0.5870 - val_loss: 0.6321\n",
      "Epoch 26/100\n",
      "11610/11610 [==============================] - 0s 39us/sample - loss: 0.5822 - val_loss: 0.6269\n",
      "Epoch 27/100\n",
      "11610/11610 [==============================] - 0s 41us/sample - loss: 0.5775 - val_loss: 0.6219\n",
      "Epoch 28/100\n",
      "11610/11610 [==============================] - 0s 39us/sample - loss: 0.5729 - val_loss: 0.6169\n",
      "Epoch 29/100\n",
      "11610/11610 [==============================] - 0s 40us/sample - loss: 0.5686 - val_loss: 0.6123\n",
      "Epoch 30/100\n",
      "11610/11610 [==============================] - 0s 41us/sample - loss: 0.5643 - val_loss: 0.6076\n",
      "Epoch 31/100\n",
      "11610/11610 [==============================] - 0s 42us/sample - loss: 0.5602 - val_loss: 0.6032\n",
      "Epoch 32/100\n",
      "11610/11610 [==============================] - 0s 40us/sample - loss: 0.5563 - val_loss: 0.5990\n",
      "Epoch 33/100\n",
      "11610/11610 [==============================] - 0s 40us/sample - loss: 0.5524 - val_loss: 0.5948\n",
      "Epoch 34/100\n",
      "11610/11610 [==============================] - 0s 40us/sample - loss: 0.5487 - val_loss: 0.5909\n",
      "Epoch 35/100\n",
      "11610/11610 [==============================] - 0s 37us/sample - loss: 0.5451 - val_loss: 0.5870\n",
      "Epoch 36/100\n",
      "11610/11610 [==============================] - 0s 38us/sample - loss: 0.5416 - val_loss: 0.5833\n",
      "Epoch 37/100\n",
      "11610/11610 [==============================] - 0s 36us/sample - loss: 0.5382 - val_loss: 0.5796\n",
      "Epoch 38/100\n",
      "11610/11610 [==============================] - 0s 36us/sample - loss: 0.5349 - val_loss: 0.5760\n",
      "Epoch 39/100\n",
      "11610/11610 [==============================] - 0s 40us/sample - loss: 0.5318 - val_loss: 0.5725\n",
      "Epoch 40/100\n",
      "11610/11610 [==============================] - 0s 38us/sample - loss: 0.5287 - val_loss: 0.5693\n",
      "Epoch 41/100\n",
      "11610/11610 [==============================] - 0s 37us/sample - loss: 0.5257 - val_loss: 0.5661\n",
      "Epoch 42/100\n",
      "11610/11610 [==============================] - 0s 38us/sample - loss: 0.5228 - val_loss: 0.5631\n",
      "Epoch 43/100\n",
      "11610/11610 [==============================] - 0s 40us/sample - loss: 0.5199 - val_loss: 0.5602\n",
      "Epoch 44/100\n",
      "11610/11610 [==============================] - 0s 37us/sample - loss: 0.5173 - val_loss: 0.5570\n",
      "Epoch 45/100\n",
      "11610/11610 [==============================] - 0s 40us/sample - loss: 0.5147 - val_loss: 0.5541\n",
      "Epoch 46/100\n",
      "11610/11610 [==============================] - 0s 37us/sample - loss: 0.5122 - val_loss: 0.5514\n",
      "Epoch 47/100\n",
      "11610/11610 [==============================] - 0s 38us/sample - loss: 0.5098 - val_loss: 0.5488\n",
      "Epoch 48/100\n",
      "11610/11610 [==============================] - 0s 38us/sample - loss: 0.5074 - val_loss: 0.5461\n",
      "Epoch 49/100\n",
      "11610/11610 [==============================] - 0s 37us/sample - loss: 0.5052 - val_loss: 0.5437\n",
      "Epoch 50/100\n",
      "11610/11610 [==============================] - 0s 37us/sample - loss: 0.5030 - val_loss: 0.5411\n",
      "Epoch 51/100\n",
      "11610/11610 [==============================] - 0s 39us/sample - loss: 0.5008 - val_loss: 0.5389\n",
      "Epoch 52/100\n",
      "11610/11610 [==============================] - 0s 37us/sample - loss: 0.4988 - val_loss: 0.5366\n",
      "Epoch 53/100\n",
      "11610/11610 [==============================] - 0s 38us/sample - loss: 0.4968 - val_loss: 0.5342\n",
      "Epoch 54/100\n",
      "11610/11610 [==============================] - 0s 41us/sample - loss: 0.4948 - val_loss: 0.5320\n",
      "Epoch 55/100\n",
      "11610/11610 [==============================] - 0s 36us/sample - loss: 0.4929 - val_loss: 0.5299\n",
      "Epoch 56/100\n",
      "11610/11610 [==============================] - 0s 37us/sample - loss: 0.4912 - val_loss: 0.5279\n",
      "Epoch 57/100\n",
      "11610/11610 [==============================] - 0s 38us/sample - loss: 0.4893 - val_loss: 0.5260\n",
      "Epoch 58/100\n",
      "11610/11610 [==============================] - 0s 37us/sample - loss: 0.4876 - val_loss: 0.5241\n",
      "Epoch 59/100\n",
      "11610/11610 [==============================] - 0s 38us/sample - loss: 0.4859 - val_loss: 0.5220\n",
      "Epoch 60/100\n",
      "11610/11610 [==============================] - 0s 38us/sample - loss: 0.4843 - val_loss: 0.5201\n",
      "Train on 11610 samples, validate on 3870 samples\n",
      "Epoch 1/100\n",
      "11610/11610 [==============================] - 1s 69us/sample - loss: 2.1305 - val_loss: 0.9627\n",
      "Epoch 2/100\n",
      "11610/11610 [==============================] - 0s 40us/sample - loss: 0.7851 - val_loss: 0.7533\n",
      "Epoch 3/100\n",
      "11610/11610 [==============================] - 0s 38us/sample - loss: 0.6788 - val_loss: 0.7092\n",
      "Epoch 4/100\n",
      "11610/11610 [==============================] - 0s 42us/sample - loss: 0.6414 - val_loss: 0.6831\n",
      "Epoch 5/100\n",
      "11610/11610 [==============================] - 0s 38us/sample - loss: 0.6158 - val_loss: 0.6608\n",
      "Epoch 6/100\n",
      "11610/11610 [==============================] - 0s 40us/sample - loss: 0.5945 - val_loss: 0.6386\n",
      "Epoch 7/100\n",
      "11610/11610 [==============================] - 0s 39us/sample - loss: 0.5783 - val_loss: 0.6218\n",
      "Epoch 8/100\n",
      "11610/11610 [==============================] - 0s 37us/sample - loss: 0.5629 - val_loss: 0.6064\n",
      "Epoch 9/100\n",
      "11610/11610 [==============================] - 0s 40us/sample - loss: 0.5490 - val_loss: 0.5916\n",
      "Epoch 10/100\n",
      "11610/11610 [==============================] - 0s 38us/sample - loss: 0.5381 - val_loss: 0.5811\n",
      "Epoch 11/100\n",
      "11610/11610 [==============================] - 0s 37us/sample - loss: 0.5278 - val_loss: 0.5687\n",
      "Epoch 12/100\n",
      "11610/11610 [==============================] - 0s 39us/sample - loss: 0.5196 - val_loss: 0.5626\n",
      "Epoch 13/100\n",
      "11610/11610 [==============================] - 0s 38us/sample - loss: 0.5128 - val_loss: 0.5520\n",
      "Epoch 14/100\n",
      "11610/11610 [==============================] - 0s 38us/sample - loss: 0.5063 - val_loss: 0.5437\n",
      "Epoch 15/100\n",
      "11610/11610 [==============================] - 0s 39us/sample - loss: 0.5006 - val_loss: 0.5383\n",
      "Epoch 16/100\n",
      "11610/11610 [==============================] - 0s 39us/sample - loss: 0.4958 - val_loss: 0.5338\n",
      "Epoch 17/100\n",
      "11610/11610 [==============================] - 0s 41us/sample - loss: 0.4910 - val_loss: 0.5274\n",
      "Epoch 18/100\n",
      "11610/11610 [==============================] - 0s 40us/sample - loss: 0.4866 - val_loss: 0.5223\n",
      "Epoch 19/100\n",
      "11610/11610 [==============================] - 0s 37us/sample - loss: 0.4831 - val_loss: 0.5175\n",
      "Epoch 20/100\n",
      "11610/11610 [==============================] - 0s 39us/sample - loss: 0.4796 - val_loss: 0.5129\n",
      "Epoch 21/100\n",
      "11610/11610 [==============================] - 0s 38us/sample - loss: 0.4765 - val_loss: 0.5116\n",
      "Epoch 22/100\n",
      "11610/11610 [==============================] - 0s 37us/sample - loss: 0.4736 - val_loss: 0.5075\n",
      "Epoch 23/100\n",
      "11610/11610 [==============================] - 0s 39us/sample - loss: 0.4710 - val_loss: 0.5039\n",
      "Epoch 24/100\n",
      "11610/11610 [==============================] - 0s 40us/sample - loss: 0.4681 - val_loss: 0.4996\n",
      "Epoch 25/100\n",
      "11610/11610 [==============================] - 0s 39us/sample - loss: 0.4654 - val_loss: 0.4976\n",
      "Epoch 26/100\n",
      "11610/11610 [==============================] - 0s 39us/sample - loss: 0.4632 - val_loss: 0.4938\n",
      "Epoch 27/100\n",
      "11610/11610 [==============================] - 0s 39us/sample - loss: 0.4609 - val_loss: 0.4913\n",
      "Epoch 28/100\n",
      "11610/11610 [==============================] - 0s 40us/sample - loss: 0.4582 - val_loss: 0.4910\n",
      "Epoch 29/100\n",
      "11610/11610 [==============================] - 0s 40us/sample - loss: 0.4563 - val_loss: 0.4871\n",
      "Epoch 30/100\n",
      "11610/11610 [==============================] - 0s 37us/sample - loss: 0.4540 - val_loss: 0.4840\n",
      "Epoch 31/100\n",
      "11610/11610 [==============================] - 0s 37us/sample - loss: 0.4520 - val_loss: 0.4824\n",
      "Epoch 32/100\n",
      "11610/11610 [==============================] - 0s 36us/sample - loss: 0.4497 - val_loss: 0.4795\n",
      "Epoch 33/100\n",
      "11610/11610 [==============================] - 0s 40us/sample - loss: 0.4475 - val_loss: 0.4791\n",
      "Epoch 34/100\n",
      "11610/11610 [==============================] - 0s 38us/sample - loss: 0.4453 - val_loss: 0.4761\n"
     ]
    },
    {
     "name": "stdout",
     "output_type": "stream",
     "text": [
      "Epoch 35/100\n",
      "11610/11610 [==============================] - 0s 38us/sample - loss: 0.4433 - val_loss: 0.4735\n",
      "Epoch 36/100\n",
      "11610/11610 [==============================] - 0s 38us/sample - loss: 0.4412 - val_loss: 0.4705\n",
      "Epoch 37/100\n",
      "11610/11610 [==============================] - 0s 39us/sample - loss: 0.4401 - val_loss: 0.4685\n",
      "Epoch 38/100\n",
      "11610/11610 [==============================] - 0s 39us/sample - loss: 0.4380 - val_loss: 0.4670\n",
      "Epoch 39/100\n",
      "11610/11610 [==============================] - 0s 39us/sample - loss: 0.4359 - val_loss: 0.4650\n",
      "Epoch 40/100\n",
      "11610/11610 [==============================] - 0s 38us/sample - loss: 0.4342 - val_loss: 0.4635\n",
      "Epoch 41/100\n",
      "11610/11610 [==============================] - 0s 37us/sample - loss: 0.4326 - val_loss: 0.4611\n",
      "Epoch 42/100\n",
      "11610/11610 [==============================] - 0s 40us/sample - loss: 0.4308 - val_loss: 0.4596\n",
      "Epoch 43/100\n",
      "11610/11610 [==============================] - 0s 37us/sample - loss: 0.4291 - val_loss: 0.4570\n",
      "Epoch 44/100\n",
      "11610/11610 [==============================] - 0s 39us/sample - loss: 0.4279 - val_loss: 0.4561\n",
      "Train on 11610 samples, validate on 3870 samples\n",
      "Epoch 1/100\n",
      "11610/11610 [==============================] - 1s 61us/sample - loss: 1.4168 - val_loss: 0.8526\n",
      "Epoch 2/100\n",
      "11610/11610 [==============================] - 0s 41us/sample - loss: 0.6396 - val_loss: 0.6325\n",
      "Epoch 3/100\n",
      "11610/11610 [==============================] - 0s 38us/sample - loss: 0.5538 - val_loss: 0.5689\n",
      "Epoch 4/100\n",
      "11610/11610 [==============================] - 0s 40us/sample - loss: 0.5091 - val_loss: 0.5281\n",
      "Epoch 5/100\n",
      "11610/11610 [==============================] - 0s 36us/sample - loss: 0.4830 - val_loss: 0.5040\n",
      "Epoch 6/100\n",
      "11610/11610 [==============================] - 0s 40us/sample - loss: 0.4678 - val_loss: 0.4873\n",
      "Epoch 7/100\n",
      "11610/11610 [==============================] - 0s 38us/sample - loss: 0.4553 - val_loss: 0.4770\n",
      "Epoch 8/100\n",
      "11610/11610 [==============================] - 0s 37us/sample - loss: 0.4467 - val_loss: 0.4658\n",
      "Epoch 9/100\n",
      "11610/11610 [==============================] - 0s 36us/sample - loss: 0.4398 - val_loss: 0.4719\n",
      "Epoch 10/100\n",
      "11610/11610 [==============================] - 0s 36us/sample - loss: 0.4336 - val_loss: 0.4565\n",
      "Epoch 11/100\n",
      "11610/11610 [==============================] - 0s 37us/sample - loss: 0.4280 - val_loss: 0.4453\n",
      "Epoch 12/100\n",
      "11610/11610 [==============================] - 0s 40us/sample - loss: 0.4249 - val_loss: 0.4423\n",
      "Epoch 13/100\n",
      "11610/11610 [==============================] - 0s 36us/sample - loss: 0.4205 - val_loss: 0.4360\n",
      "Epoch 14/100\n",
      "11610/11610 [==============================] - 0s 38us/sample - loss: 0.4176 - val_loss: 0.4348\n",
      "Epoch 15/100\n",
      "11610/11610 [==============================] - 0s 40us/sample - loss: 0.4143 - val_loss: 0.4301\n",
      "Epoch 16/100\n",
      "11610/11610 [==============================] - 0s 41us/sample - loss: 0.4114 - val_loss: 0.4254\n",
      "Epoch 17/100\n",
      "11610/11610 [==============================] - 0s 38us/sample - loss: 0.4087 - val_loss: 0.4227\n",
      "Epoch 18/100\n",
      "11610/11610 [==============================] - 0s 39us/sample - loss: 0.4069 - val_loss: 0.4199\n",
      "Epoch 19/100\n",
      "11610/11610 [==============================] - 0s 37us/sample - loss: 0.4044 - val_loss: 0.4185\n",
      "Epoch 20/100\n",
      "11610/11610 [==============================] - 0s 38us/sample - loss: 0.4027 - val_loss: 0.4149\n",
      "Epoch 21/100\n",
      "11610/11610 [==============================] - 0s 37us/sample - loss: 0.4007 - val_loss: 0.4134\n",
      "Epoch 22/100\n",
      "11610/11610 [==============================] - 0s 36us/sample - loss: 0.3989 - val_loss: 0.4133\n",
      "Train on 11610 samples, validate on 3870 samples\n",
      "Epoch 1/100\n",
      "11610/11610 [==============================] - 1s 61us/sample - loss: 1.1754 - val_loss: 0.8368\n",
      "Epoch 2/100\n",
      "11610/11610 [==============================] - 0s 40us/sample - loss: 0.8417 - val_loss: 0.4944\n",
      "Epoch 3/100\n",
      "11610/11610 [==============================] - 0s 39us/sample - loss: 0.4523 - val_loss: 0.4485\n",
      "Epoch 4/100\n",
      "11610/11610 [==============================] - 0s 40us/sample - loss: 0.4248 - val_loss: 0.4261\n",
      "Epoch 5/100\n",
      "11610/11610 [==============================] - 0s 40us/sample - loss: 0.4124 - val_loss: 0.4118\n",
      "Epoch 6/100\n",
      "11610/11610 [==============================] - 0s 41us/sample - loss: 0.3934 - val_loss: 0.4026\n",
      "Epoch 7/100\n",
      "11610/11610 [==============================] - 0s 37us/sample - loss: 0.3922 - val_loss: 0.4036\n",
      "Epoch 8/100\n",
      "11610/11610 [==============================] - 0s 40us/sample - loss: 0.3797 - val_loss: 0.3864\n",
      "Epoch 9/100\n",
      "11610/11610 [==============================] - 0s 41us/sample - loss: 0.3777 - val_loss: 0.3902\n",
      "Epoch 10/100\n",
      "11610/11610 [==============================] - 0s 41us/sample - loss: 0.3703 - val_loss: 0.3870\n",
      "Epoch 11/100\n",
      "11610/11610 [==============================] - 0s 42us/sample - loss: 0.3673 - val_loss: 0.3764\n",
      "Epoch 12/100\n",
      "11610/11610 [==============================] - 1s 43us/sample - loss: 0.3638 - val_loss: 0.3703\n",
      "Epoch 13/100\n",
      "11610/11610 [==============================] - 0s 40us/sample - loss: 0.3625 - val_loss: 0.3742\n",
      "Epoch 14/100\n",
      "11610/11610 [==============================] - 0s 42us/sample - loss: 0.3615 - val_loss: 0.3653\n",
      "Epoch 15/100\n",
      "11610/11610 [==============================] - 0s 41us/sample - loss: 0.3576 - val_loss: 0.3684\n",
      "Epoch 16/100\n",
      "11610/11610 [==============================] - 0s 37us/sample - loss: 0.3540 - val_loss: 0.3616\n",
      "Epoch 17/100\n",
      "11610/11610 [==============================] - 0s 41us/sample - loss: 0.3535 - val_loss: 0.3603\n",
      "Epoch 18/100\n",
      "11610/11610 [==============================] - 0s 40us/sample - loss: 0.3514 - val_loss: 0.3599\n",
      "Epoch 19/100\n",
      "11610/11610 [==============================] - 0s 41us/sample - loss: 0.3562 - val_loss: 0.3583\n",
      "Train on 11610 samples, validate on 3870 samples\n",
      "Epoch 1/100\n",
      "11610/11610 [==============================] - 1s 70us/sample - loss: nan - val_loss: nan\n",
      "Epoch 2/100\n",
      " 4800/11610 [===========>..................] - ETA: 0s - loss: nan"
     ]
    },
    {
     "name": "stderr",
     "output_type": "stream",
     "text": [
      "D:\\soft_mine\\Anaconda3\\envs\\mlcc\\lib\\site-packages\\tensorflow_core\\python\\keras\\callbacks.py:1225: RuntimeWarning: invalid value encountered in less\n",
      "  if self.monitor_op(current - self.min_delta, self.best):\n"
     ]
    },
    {
     "name": "stdout",
     "output_type": "stream",
     "text": [
      "11610/11610 [==============================] - 1s 44us/sample - loss: nan - val_loss: nan\n",
      "Epoch 3/100\n",
      "11610/11610 [==============================] - 0s 42us/sample - loss: nan - val_loss: nan\n",
      "Epoch 4/100\n",
      "11610/11610 [==============================] - 0s 39us/sample - loss: nan - val_loss: nan\n",
      "Epoch 5/100\n",
      "11610/11610 [==============================] - 0s 42us/sample - loss: nan - val_loss: nan\n"
     ]
    }
   ],
   "source": [
    "# 超参数搜索 lr\n",
    "# W = W + grad * learning_rate\n",
    "learning_rates = [1e-4, 3e-4, 1e-3, 3e-3, 1e-2, 3e-2]\n",
    "histories = []\n",
    "for lr in learning_rates:\n",
    "    model = keras.models.Sequential([\n",
    "        keras.layers.Dense(30, activation='relu',\n",
    "                           input_shape=x_train.shape[1:]),\n",
    "        keras.layers.Dense(1),\n",
    "    ])\n",
    "    optimizer = keras.optimizers.SGD(lr)\n",
    "    model.compile(loss=\"mean_squared_error\", optimizer=optimizer)\n",
    "    callbacks = [keras.callbacks.EarlyStopping(\n",
    "        patience=5, min_delta=1e-2)]\n",
    "    history = model.fit(x_train_scaled, y_train,\n",
    "                    validation_data = (x_valid_scaled, y_valid),\n",
    "                    epochs = 100,\n",
    "                    callbacks = callbacks)\n",
    "    histories.append(history)"
   ]
  },
  {
   "cell_type": "code",
   "execution_count": 8,
   "metadata": {},
   "outputs": [
    {
     "name": "stdout",
     "output_type": "stream",
     "text": [
      "lr: 0.0001\n"
     ]
    },
    {
     "data": {
      "image/png": "[encoded data removed]",
      "text/plain": [
       "<Figure size 576x360 with 1 Axes>"
      ]
     },
     "metadata": {
      "needs_background": "light"
     },
     "output_type": "display_data"
    },
    {
     "name": "stdout",
     "output_type": "stream",
     "text": [
      "lr: 0.0003\n"
     ]
    },
    {
     "data": {
      "image/png": "[encoded data removed]",
      "text/plain": [
       "<Figure size 576x360 with 1 Axes>"
      ]
     },
     "metadata": {
      "needs_background": "light"
     },
     "output_type": "display_data"
    },
    {
     "name": "stdout",
     "output_type": "stream",
     "text": [
      "lr: 0.001\n"
     ]
    },
    {
     "data": {
      "image/png": "[encoded data removed]",
      "text/plain": [
       "<Figure size 576x360 with 1 Axes>"
      ]
     },
     "metadata": {
      "needs_background": "light"
     },
     "output_type": "display_data"
    },
    {
     "name": "stdout",
     "output_type": "stream",
     "text": [
      "lr: 0.003\n"
     ]
    },
    {
     "data": {
      "image/png": "[encoded data removed]",
      "text/plain": [
       "<Figure size 576x360 with 1 Axes>"
      ]
     },
     "metadata": {
      "needs_background": "light"
     },
     "output_type": "display_data"
    },
    {
     "name": "stdout",
     "output_type": "stream",
     "text": [
      "lr: 0.01\n"
     ]
    },
    {
     "data": {
      "image/png": "[encoded data removed]",
      "text/plain": [
       "<Figure size 576x360 with 1 Axes>"
      ]
     },
     "metadata": {
      "needs_background": "light"
     },
     "output_type": "display_data"
    },
    {
     "name": "stdout",
     "output_type": "stream",
     "text": [
      "lr: 0.03\n"
     ]
    },
    {
     "data": {
      "image/png": "[encoded data removed]",
      "text/plain": [
       "<Figure size 576x360 with 1 Axes>"
      ]
     },
     "metadata": {
      "needs_background": "light"
     },
     "output_type": "display_data"
    }
   ],
   "source": [
    "def plot_learning_curves(history):\n",
    "    pd.DataFrame(history.history).plot(figsize=(8, 5))\n",
    "    plt.grid(True)\n",
    "    plt.gca().set_ylim(0, 1)\n",
    "    plt.show()\n",
    "    \n",
    "for lr, history in zip(learning_rates, histories):\n",
    "    print('lr:',lr)\n",
    "    plot_learning_curves(history)"
   ]
  },
  {
   "cell_type": "code",
   "execution_count": null,
   "metadata": {},
   "outputs": [],
   "source": []
  }
 ],
 "metadata": {
  "kernelspec": {
   "display_name": "Python 3",
   "language": "python",
   "name": "python3"
  },
  "language_info": {
   "codemirror_mode": {
    "name": "ipython",
    "version": 3
   },
   "file_extension": ".py",
   "mimetype": "text/x-python",
   "name": "python",
   "nbconvert_exporter": "python",
   "pygments_lexer": "ipython3",
   "version": "3.7.4"
  }
 },
 "nbformat": 4,
 "nbformat_minor": 2
}
