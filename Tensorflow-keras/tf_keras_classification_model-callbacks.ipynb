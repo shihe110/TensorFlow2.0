{
 "cells": [
  {
   "cell_type": "markdown",
   "metadata": {},
   "source": [
    "### 数据归一化"
   ]
  },
  {
   "cell_type": "code",
   "execution_count": 1,
   "metadata": {},
   "outputs": [
    {
     "name": "stdout",
     "output_type": "stream",
     "text": [
      "2.0.0\n",
      "sys.version_info(major=3, minor=7, micro=4, releaselevel='final', serial=0)\n",
      "matplotlib 3.1.1\n",
      "numpy 1.17.3\n",
      "sklearn 0.21.3\n",
      "tensorflow 2.0.0\n",
      "tensorflow_core.keras 2.2.4-tf\n"
     ]
    }
   ],
   "source": [
    "import matplotlib.pyplot as plt\n",
    "import matplotlib as mpl\n",
    "%matplotlib inline\n",
    "import numpy as np\n",
    "import pandas as pd\n",
    "import sklearn\n",
    "import os\n",
    "import sys\n",
    "import time\n",
    "import tensorflow as tf\n",
    "from tensorflow import keras\n",
    "\n",
    "print(tf.__version__)\n",
    "print(sys.version_info)\n",
    "for module in mpl, np, sklearn, tf, keras:\n",
    "    print(module.__name__, module.__version__)"
   ]
  },
  {
   "cell_type": "code",
   "execution_count": 2,
   "metadata": {},
   "outputs": [
    {
     "name": "stdout",
     "output_type": "stream",
     "text": [
      "(5000, 28, 28) (5000,)\n",
      "(55000, 28, 28) (55000,)\n",
      "(10000, 28, 28) (10000,)\n"
     ]
    }
   ],
   "source": [
    "# 导入数据\n",
    "fashion_mnist = keras.datasets.fashion_mnist\n",
    "(x_train_all, y_train_all),(x_test, y_test) = fashion_mnist.load_data()\n",
    "x_vaild, x_train = x_train_all[:5000], x_train_all[5000:]\n",
    "y_vaild, y_train = y_train_all[:5000], y_train_all[5000:]\n",
    "\n",
    "print(x_vaild.shape, y_vaild.shape)\n",
    "print(x_train.shape, y_train.shape)\n",
    "print(x_test.shape, y_test.shape)"
   ]
  },
  {
   "cell_type": "code",
   "execution_count": 3,
   "metadata": {},
   "outputs": [],
   "source": [
    "# 数据归一化  x = (x - u) / std   u-均值  std-方差  满足 0 1 正态分布\n",
    "from sklearn.preprocessing import StandardScaler\n",
    "\n",
    "scalar = StandardScaler()\n",
    "# x_train: [None,28, 28] -> [None, 784]\n",
    "x_train_scalar = scalar.fit_transform(x_train.astype(np.float32).reshape(-1, 1)).reshape(-1, 28, 28)\n",
    "x_vaild_scalar = scalar.fit_transform(x_vaild.astype(np.float32).reshape(-1, 1)).reshape(-1, 28, 28)\n",
    "x_test_scalar = scalar.fit_transform(x_test.astype(np.float32).reshape(-1, 1)).reshape(-1, 28, 28)"
   ]
  },
  {
   "cell_type": "code",
   "execution_count": 4,
   "metadata": {},
   "outputs": [],
   "source": [
    "# tf.keras 模型\n",
    "model = tf.keras.Sequential()\n",
    "model.add(keras.layers.Flatten(input_shape=[28, 28]))\n",
    "model.add(keras.layers.Dense(300, activation='relu'))\n",
    "model.add(keras.layers.Dense(100, activation='relu'))\n",
    "model.add(keras.layers.Dense(10, activation='softmax'))\n",
    "\n",
    "# relu: y = max(0, x)\n",
    "# softmax: 将项量变成改了分布 x = [x1, x2, x3]\n",
    "# y = [e^x1/sum, e^x2/sum, e^x3/sum], sum = e^x1 + e^x2 + e^x3\n",
    "\n",
    "model.compile(optimizer='sgd',\n",
    "              loss='sparse_categorical_crossentropy',\n",
    "              metrics=['accuracy'])"
   ]
  },
  {
   "cell_type": "code",
   "execution_count": 5,
   "metadata": {},
   "outputs": [
    {
     "name": "stdout",
     "output_type": "stream",
     "text": [
      "Train on 55000 samples, validate on 5000 samples\n",
      "Epoch 1/10\n",
      "55000/55000 [==============================] - 5s 83us/sample - loss: 0.5336 - accuracy: 0.8120 - val_loss: 0.4221 - val_accuracy: 0.8446\n",
      "Epoch 2/10\n",
      "55000/55000 [==============================] - 4s 73us/sample - loss: 0.3873 - accuracy: 0.8588 - val_loss: 0.3634 - val_accuracy: 0.8690\n",
      "Epoch 3/10\n",
      "55000/55000 [==============================] - 4s 71us/sample - loss: 0.3508 - accuracy: 0.8725 - val_loss: 0.3532 - val_accuracy: 0.8702\n",
      "Epoch 4/10\n",
      "55000/55000 [==============================] - 4s 71us/sample - loss: 0.3256 - accuracy: 0.8815 - val_loss: 0.3313 - val_accuracy: 0.8792\n",
      "Epoch 5/10\n",
      "55000/55000 [==============================] - 4s 75us/sample - loss: 0.3066 - accuracy: 0.8891 - val_loss: 0.3298 - val_accuracy: 0.8792\n",
      "Epoch 6/10\n",
      "55000/55000 [==============================] - 4s 70us/sample - loss: 0.2903 - accuracy: 0.8950 - val_loss: 0.3271 - val_accuracy: 0.8808\n",
      "Epoch 7/10\n",
      "55000/55000 [==============================] - 4s 68us/sample - loss: 0.2775 - accuracy: 0.8983 - val_loss: 0.3213 - val_accuracy: 0.8860\n",
      "Epoch 8/10\n",
      "55000/55000 [==============================] - 4s 68us/sample - loss: 0.2650 - accuracy: 0.9039 - val_loss: 0.3237 - val_accuracy: 0.8826\n",
      "Epoch 9/10\n",
      "55000/55000 [==============================] - 4s 72us/sample - loss: 0.2538 - accuracy: 0.9075 - val_loss: 0.3076 - val_accuracy: 0.8872\n",
      "Epoch 10/10\n",
      "55000/55000 [==============================] - 4s 71us/sample - loss: 0.2434 - accuracy: 0.9116 - val_loss: 0.3159 - val_accuracy: 0.8836\n"
     ]
    }
   ],
   "source": [
    "# 回调函数 Tensorboard earlystopping ModelCheckpoint\n",
    "logdir = './callbacks'\n",
    "if not os.path.exists(logdir):\n",
    "    os.mkdir(logdir)\n",
    "\n",
    "output_model_file = os.path.join(logdir, 'fashion_mnist_model.h5')\n",
    "\n",
    "callbacks = [\n",
    "    keras.callbacks.TensorBoard(logdir),\n",
    "    keras.callbacks.ModelCheckpoint(output_model_file, save_best_only=True),\n",
    "    keras.callbacks.EarlyStopping(patience=5, min_delta=1e-3)\n",
    "]\n",
    "# 在训练过程中回调\n",
    "history = model.fit(x_train_scalar, y_train, epochs=10,\n",
    "         validation_data=(x_vaild_scalar, y_vaild))"
   ]
  },
  {
   "cell_type": "code",
   "execution_count": 6,
   "metadata": {},
   "outputs": [
    {
     "data": {
      "image/png": "[encoded data removed]",
      "text/plain": [
       "<Figure size 576x360 with 1 Axes>"
      ]
     },
     "metadata": {
      "needs_background": "light"
     },
     "output_type": "display_data"
    }
   ],
   "source": [
    "def plot_learning_curves(history):\n",
    "    pd.DataFrame(history.history).plot(figsize=(8, 5))\n",
    "    plt.grid(True)\n",
    "    plt.gca().set_ylim(0, 1)\n",
    "\n",
    "    \n",
    "    \n",
    "plot_learning_curves(history)"
   ]
  },
  {
   "cell_type": "code",
   "execution_count": null,
   "metadata": {},
   "outputs": [],
   "source": []
  },
  {
   "cell_type": "code",
   "execution_count": null,
   "metadata": {},
   "outputs": [],
   "source": []
  }
 ],
 "metadata": {
  "kernelspec": {
   "display_name": "Python 3",
   "language": "python",
   "name": "python3"
  },
  "language_info": {
   "codemirror_mode": {
    "name": "ipython",
    "version": 3
   },
   "file_extension": ".py",
   "mimetype": "text/x-python",
   "name": "python",
   "nbconvert_exporter": "python",
   "pygments_lexer": "ipython3",
   "version": "3.7.4"
  }
 },
 "nbformat": 4,
 "nbformat_minor": 2
}
