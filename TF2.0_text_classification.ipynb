{
 "cells": [
  {
   "cell_type": "markdown",
   "metadata": {},
   "source": [
    "### 影评文本分类"
   ]
  },
  {
   "cell_type": "code",
   "execution_count": 1,
   "metadata": {},
   "outputs": [
    {
     "name": "stdout",
     "output_type": "stream",
     "text": [
      "2.0.0\n"
     ]
    }
   ],
   "source": [
    "from __future__ import absolute_import, division, print_function, unicode_literals\n",
    "\n",
    "import tensorflow as tf\n",
    "from tensorflow import keras\n",
    "\n",
    "import numpy as np\n",
    "\n",
    "print(tf.__version__)"
   ]
  },
  {
   "cell_type": "markdown",
   "metadata": {},
   "source": [
    "### 下载IMDB数据集"
   ]
  },
  {
   "cell_type": "code",
   "execution_count": 2,
   "metadata": {},
   "outputs": [],
   "source": [
    "imdb = keras.datasets.imdb"
   ]
  },
  {
   "cell_type": "code",
   "execution_count": 3,
   "metadata": {},
   "outputs": [],
   "source": [
    "(train_data, train_labels), (test_data, test_labels) = imdb.load_data(num_words=10000)"
   ]
  },
  {
   "cell_type": "markdown",
   "metadata": {},
   "source": [
    "### 研究数据"
   ]
  },
  {
   "cell_type": "code",
   "execution_count": 4,
   "metadata": {},
   "outputs": [
    {
     "data": {
      "text/plain": [
       "(25000,)"
      ]
     },
     "execution_count": 4,
     "metadata": {},
     "output_type": "execute_result"
    }
   ],
   "source": [
    "train_data.shape"
   ]
  },
  {
   "cell_type": "code",
   "execution_count": 5,
   "metadata": {},
   "outputs": [
    {
     "data": {
      "text/plain": [
       "array([1, 0, 0, 1, 0, 0, 1, 0, 1, 0], dtype=int64)"
      ]
     },
     "execution_count": 5,
     "metadata": {},
     "output_type": "execute_result"
    }
   ],
   "source": [
    "train_labels[:10]"
   ]
  },
  {
   "cell_type": "code",
   "execution_count": 6,
   "metadata": {},
   "outputs": [
    {
     "name": "stdout",
     "output_type": "stream",
     "text": [
      "Training entries:25000, labels:25000\n"
     ]
    }
   ],
   "source": [
    "print(\"Training entries:{}, labels:{}\".format(len(train_data), len(train_labels)))"
   ]
  },
  {
   "cell_type": "code",
   "execution_count": 7,
   "metadata": {},
   "outputs": [
    {
     "name": "stdout",
     "output_type": "stream",
     "text": [
      "[1, 14, 22, 16, 43, 530, 973, 1622, 1385, 65, 458, 4468, 66, 3941, 4, 173, 36, 256, 5, 25, 100, 43, 838, 112, 50, 670, 2, 9, 35, 480, 284, 5, 150, 4, 172, 112, 167, 2, 336, 385, 39, 4, 172, 4536, 1111, 17, 546, 38, 13, 447, 4, 192, 50, 16, 6, 147, 2025, 19, 14, 22, 4, 1920, 4613, 469, 4, 22, 71, 87, 12, 16, 43, 530, 38, 76, 15, 13, 1247, 4, 22, 17, 515, 17, 12, 16, 626, 18, 2, 5, 62, 386, 12, 8, 316, 8, 106, 5, 4, 2223, 5244, 16, 480, 66, 3785, 33, 4, 130, 12, 16, 38, 619, 5, 25, 124, 51, 36, 135, 48, 25, 1415, 33, 6, 22, 12, 215, 28, 77, 52, 5, 14, 407, 16, 82, 2, 8, 4, 107, 117, 5952, 15, 256, 4, 2, 7, 3766, 5, 723, 36, 71, 43, 530, 476, 26, 400, 317, 46, 7, 4, 2, 1029, 13, 104, 88, 4, 381, 15, 297, 98, 32, 2071, 56, 26, 141, 6, 194, 7486, 18, 4, 226, 22, 21, 134, 476, 26, 480, 5, 144, 30, 5535, 18, 51, 36, 28, 224, 92, 25, 104, 4, 226, 65, 16, 38, 1334, 88, 12, 16, 283, 5, 16, 4472, 113, 103, 32, 15, 16, 5345, 19, 178, 32]\n"
     ]
    }
   ],
   "source": [
    "print(train_data[0])"
   ]
  },
  {
   "cell_type": "code",
   "execution_count": 8,
   "metadata": {},
   "outputs": [
    {
     "data": {
      "text/plain": [
       "(218, 189, 550)"
      ]
     },
     "execution_count": 8,
     "metadata": {},
     "output_type": "execute_result"
    }
   ],
   "source": [
    "len(train_data[0]), len(train_data[1]), len(train_data[3])#电影评论可能具有不同的长度。以下代码显示了第一条和第二条评论的中单词数量。由于神经网络的输入必须是统一的长度，我们稍后需要解决这个问题。"
   ]
  },
  {
   "cell_type": "code",
   "execution_count": 9,
   "metadata": {},
   "outputs": [],
   "source": [
    "word_index = imdb.get_word_index()"
   ]
  },
  {
   "cell_type": "code",
   "execution_count": 10,
   "metadata": {},
   "outputs": [],
   "source": [
    "word_index = {k:(v+3) for k,v in word_index.items()}\n",
    "word_index[\"<PAD>\"] = 0\n",
    "word_index[\"<START>\"] = 1\n",
    "word_index[\"<UNK>\"] = 2  # unknown\n",
    "word_index[\"<UNUSED>\"] = 3"
   ]
  },
  {
   "cell_type": "code",
   "execution_count": 11,
   "metadata": {},
   "outputs": [],
   "source": [
    "reverse_word_index = dict([(value, key) for (key, value) in word_index.items()])"
   ]
  },
  {
   "cell_type": "code",
   "execution_count": 12,
   "metadata": {},
   "outputs": [],
   "source": [
    "def decode_review(text):\n",
    "    return ' '.join([reverse_word_index.get(i, '?') for i in text])"
   ]
  },
  {
   "cell_type": "code",
   "execution_count": 13,
   "metadata": {},
   "outputs": [
    {
     "data": {
      "text/plain": [
       "\"<START> this film was just brilliant casting location scenery story direction everyone's really suited the part they played and you could just imagine being there robert <UNK> is an amazing actor and now the same being director <UNK> father came from the same scottish island as myself so i loved the fact there was a real connection with this film the witty remarks throughout the film were great it was just brilliant so much that i bought the film as soon as it was released for <UNK> and would recommend it to everyone to watch and the fly fishing was amazing really cried at the end it was so sad and you know what they say if you cry at a film it must have been good and this definitely was also <UNK> to the two little boy's that played the <UNK> of norman and paul they were just brilliant children are often left out of the <UNK> list i think because the stars that play them all grown up are such a big profile for the whole film but these children are amazing and should be praised for what they have done don't you think the whole story was so lovely because it was true and was someone's life after all that was shared with us all\""
      ]
     },
     "execution_count": 13,
     "metadata": {},
     "output_type": "execute_result"
    }
   ],
   "source": [
    "decode_review(train_data[0])"
   ]
  },
  {
   "cell_type": "markdown",
   "metadata": {},
   "source": [
    "### 数据准备"
   ]
  },
  {
   "cell_type": "code",
   "execution_count": 14,
   "metadata": {},
   "outputs": [],
   "source": [
    "# onehot方式 或 填充数组"
   ]
  },
  {
   "cell_type": "code",
   "execution_count": 15,
   "metadata": {},
   "outputs": [],
   "source": [
    "train_data = tf.keras.preprocessing.sequence.pad_sequences(train_data, \n",
    "                                                           value=word_index['<PAD>'],\n",
    "                                                            padding='post',\n",
    "                                                           maxlen=256\n",
    "                                                          )\n",
    "test_data = tf.keras.preprocessing.sequence.pad_sequences(test_data,\n",
    "                                                            value=word_index['<PAD>'],\n",
    "                                                          padding='post',\n",
    "                                                          maxlen=256\n",
    "                                                         )"
   ]
  },
  {
   "cell_type": "code",
   "execution_count": 16,
   "metadata": {},
   "outputs": [
    {
     "data": {
      "text/plain": [
       "256"
      ]
     },
     "execution_count": 16,
     "metadata": {},
     "output_type": "execute_result"
    }
   ],
   "source": [
    "len(train_data[5])"
   ]
  },
  {
   "cell_type": "code",
   "execution_count": 17,
   "metadata": {},
   "outputs": [
    {
     "name": "stdout",
     "output_type": "stream",
     "text": [
      "[   1  194 1153  194 8255   78  228    5    6 1463 4369 5012  134   26\n",
      "    4  715    8  118 1634   14  394   20   13  119  954  189  102    5\n",
      "  207  110 3103   21   14   69  188    8   30   23    7    4  249  126\n",
      "   93    4  114    9 2300 1523    5  647    4  116    9   35 8163    4\n",
      "  229    9  340 1322    4  118    9    4  130 4901   19    4 1002    5\n",
      "   89   29  952   46   37    4  455    9   45   43   38 1543 1905  398\n",
      "    4 1649   26 6853    5  163   11 3215    2    4 1153    9  194  775\n",
      "    7 8255    2  349 2637  148  605    2 8003   15  123  125   68    2\n",
      " 6853   15  349  165 4362   98    5    4  228    9   43    2 1157   15\n",
      "  299  120    5  120  174   11  220  175  136   50    9 4373  228 8255\n",
      "    5    2  656  245 2350    5    4 9837  131  152  491   18    2   32\n",
      " 7464 1212   14    9    6  371   78   22  625   64 1382    9    8  168\n",
      "  145   23    4 1690   15   16    4 1355    5   28    6   52  154  462\n",
      "   33   89   78  285   16  145   95    0    0    0    0    0    0    0\n",
      "    0    0    0    0    0    0    0    0    0    0    0    0    0    0\n",
      "    0    0    0    0    0    0    0    0    0    0    0    0    0    0\n",
      "    0    0    0    0    0    0    0    0    0    0    0    0    0    0\n",
      "    0    0    0    0    0    0    0    0    0    0    0    0    0    0\n",
      "    0    0    0    0]\n"
     ]
    }
   ],
   "source": [
    "print(train_data[1])"
   ]
  },
  {
   "cell_type": "markdown",
   "metadata": {},
   "source": [
    "### 构建模型"
   ]
  },
  {
   "cell_type": "code",
   "execution_count": 18,
   "metadata": {},
   "outputs": [
    {
     "name": "stdout",
     "output_type": "stream",
     "text": [
      "Model: \"sequential\"\n",
      "_________________________________________________________________\n",
      "Layer (type)                 Output Shape              Param #   \n",
      "=================================================================\n",
      "embedding (Embedding)        (None, None, 16)          160000    \n",
      "_________________________________________________________________\n",
      "global_average_pooling1d (Gl (None, 16)                0         \n",
      "_________________________________________________________________\n",
      "dense (Dense)                (None, 16)                272       \n",
      "_________________________________________________________________\n",
      "dense_1 (Dense)              (None, 1)                 17        \n",
      "=================================================================\n",
      "Total params: 160,289\n",
      "Trainable params: 160,289\n",
      "Non-trainable params: 0\n",
      "_________________________________________________________________\n"
     ]
    }
   ],
   "source": [
    "vocab_size = 10000\n",
    "\n",
    "model = keras.Sequential()\n",
    "model.add(keras.layers.Embedding(vocab_size, 16))\n",
    "model.add(keras.layers.GlobalAveragePooling1D())\n",
    "model.add(keras.layers.Dense(16, activation='relu'))\n",
    "model.add(keras.layers.Dense(1, activation='sigmoid'))\n",
    "\n",
    "model.summary()"
   ]
  },
  {
   "cell_type": "code",
   "execution_count": 19,
   "metadata": {},
   "outputs": [],
   "source": [
    "model.compile(\n",
    "    optimizer='adam',\n",
    "    loss='binary_crossentropy',\n",
    "    metrics=['accuracy']\n",
    ")"
   ]
  },
  {
   "cell_type": "code",
   "execution_count": 20,
   "metadata": {},
   "outputs": [],
   "source": [
    "# 创建验证集\n",
    "x_val = train_data[:10000]\n",
    "partial_x_train = train_data[10000:]\n",
    "\n",
    "y_val = train_labels[:10000]\n",
    "partial_y_train = train_labels[10000:]"
   ]
  },
  {
   "cell_type": "code",
   "execution_count": 21,
   "metadata": {},
   "outputs": [
    {
     "name": "stdout",
     "output_type": "stream",
     "text": [
      "Train on 15000 samples, validate on 10000 samples\n",
      "Epoch 1/40\n",
      "15000/15000 [==============================] - 2s 136us/sample - loss: 0.6916 - accuracy: 0.5855 - val_loss: 0.6891 - val_accuracy: 0.6524\n",
      "Epoch 2/40\n",
      "15000/15000 [==============================] - 1s 72us/sample - loss: 0.6844 - accuracy: 0.7028 - val_loss: 0.6796 - val_accuracy: 0.7263\n",
      "Epoch 3/40\n",
      "15000/15000 [==============================] - 1s 72us/sample - loss: 0.6700 - accuracy: 0.7573 - val_loss: 0.6615 - val_accuracy: 0.7630\n",
      "Epoch 4/40\n",
      "15000/15000 [==============================] - 1s 72us/sample - loss: 0.6451 - accuracy: 0.7808 - val_loss: 0.6332 - val_accuracy: 0.7670\n",
      "Epoch 5/40\n",
      "15000/15000 [==============================] - 1s 71us/sample - loss: 0.6097 - accuracy: 0.7880 - val_loss: 0.5960 - val_accuracy: 0.7855\n",
      "Epoch 6/40\n",
      "15000/15000 [==============================] - 1s 73us/sample - loss: 0.5658 - accuracy: 0.8084 - val_loss: 0.5539 - val_accuracy: 0.8030\n",
      "Epoch 7/40\n",
      "15000/15000 [==============================] - 1s 70us/sample - loss: 0.5173 - accuracy: 0.8336 - val_loss: 0.5099 - val_accuracy: 0.8209\n",
      "Epoch 8/40\n",
      "15000/15000 [==============================] - 1s 69us/sample - loss: 0.4695 - accuracy: 0.8480 - val_loss: 0.4691 - val_accuracy: 0.8342\n",
      "Epoch 9/40\n",
      "15000/15000 [==============================] - 1s 71us/sample - loss: 0.4258 - accuracy: 0.8633 - val_loss: 0.4338 - val_accuracy: 0.8424\n",
      "Epoch 10/40\n",
      "15000/15000 [==============================] - 1s 72us/sample - loss: 0.3882 - accuracy: 0.8746 - val_loss: 0.4031 - val_accuracy: 0.8530\n",
      "Epoch 11/40\n",
      "15000/15000 [==============================] - 1s 73us/sample - loss: 0.3558 - accuracy: 0.8841 - val_loss: 0.3787 - val_accuracy: 0.8609\n",
      "Epoch 12/40\n",
      "15000/15000 [==============================] - 1s 70us/sample - loss: 0.3286 - accuracy: 0.8903 - val_loss: 0.3596 - val_accuracy: 0.8655\n",
      "Epoch 13/40\n",
      "15000/15000 [==============================] - 1s 69us/sample - loss: 0.3057 - accuracy: 0.8972 - val_loss: 0.3445 - val_accuracy: 0.8680\n",
      "Epoch 14/40\n",
      "15000/15000 [==============================] - 1s 69us/sample - loss: 0.2866 - accuracy: 0.9025 - val_loss: 0.3317 - val_accuracy: 0.8735\n",
      "Epoch 15/40\n",
      "15000/15000 [==============================] - 1s 73us/sample - loss: 0.2691 - accuracy: 0.9084 - val_loss: 0.3219 - val_accuracy: 0.8754\n",
      "Epoch 16/40\n",
      "15000/15000 [==============================] - 1s 69us/sample - loss: 0.2542 - accuracy: 0.9132 - val_loss: 0.3142 - val_accuracy: 0.8757\n",
      "Epoch 17/40\n",
      "15000/15000 [==============================] - 1s 70us/sample - loss: 0.2406 - accuracy: 0.9186 - val_loss: 0.3070 - val_accuracy: 0.8784\n",
      "Epoch 18/40\n",
      "15000/15000 [==============================] - 1s 69us/sample - loss: 0.2284 - accuracy: 0.9213 - val_loss: 0.3021 - val_accuracy: 0.8803\n",
      "Epoch 19/40\n",
      "15000/15000 [==============================] - 1s 71us/sample - loss: 0.2171 - accuracy: 0.9252 - val_loss: 0.2967 - val_accuracy: 0.8817\n",
      "Epoch 20/40\n",
      "15000/15000 [==============================] - 1s 70us/sample - loss: 0.2065 - accuracy: 0.9295 - val_loss: 0.2936 - val_accuracy: 0.8831\n",
      "Epoch 21/40\n",
      "15000/15000 [==============================] - 1s 71us/sample - loss: 0.1971 - accuracy: 0.9335 - val_loss: 0.2904 - val_accuracy: 0.8839\n",
      "Epoch 22/40\n",
      "15000/15000 [==============================] - 1s 69us/sample - loss: 0.1879 - accuracy: 0.9375 - val_loss: 0.2881 - val_accuracy: 0.8845\n",
      "Epoch 23/40\n",
      "15000/15000 [==============================] - 1s 70us/sample - loss: 0.1802 - accuracy: 0.9399 - val_loss: 0.2868 - val_accuracy: 0.8844\n",
      "Epoch 24/40\n",
      "15000/15000 [==============================] - 1s 72us/sample - loss: 0.1721 - accuracy: 0.9443 - val_loss: 0.2860 - val_accuracy: 0.8847\n",
      "Epoch 25/40\n",
      "15000/15000 [==============================] - 1s 71us/sample - loss: 0.1649 - accuracy: 0.9477 - val_loss: 0.2855 - val_accuracy: 0.8850\n",
      "Epoch 26/40\n",
      "15000/15000 [==============================] - 1s 69us/sample - loss: 0.1576 - accuracy: 0.9511 - val_loss: 0.2850 - val_accuracy: 0.8860\n",
      "Epoch 27/40\n",
      "15000/15000 [==============================] - 1s 73us/sample - loss: 0.1510 - accuracy: 0.9531 - val_loss: 0.2854 - val_accuracy: 0.8861\n",
      "Epoch 28/40\n",
      "15000/15000 [==============================] - 1s 82us/sample - loss: 0.1451 - accuracy: 0.9563 - val_loss: 0.2866 - val_accuracy: 0.8843\n",
      "Epoch 29/40\n",
      "15000/15000 [==============================] - 1s 85us/sample - loss: 0.1395 - accuracy: 0.9582 - val_loss: 0.2874 - val_accuracy: 0.8853\n",
      "Epoch 30/40\n",
      "15000/15000 [==============================] - 1s 77us/sample - loss: 0.1336 - accuracy: 0.9610 - val_loss: 0.2883 - val_accuracy: 0.8864\n",
      "Epoch 31/40\n",
      "15000/15000 [==============================] - 1s 83us/sample - loss: 0.1285 - accuracy: 0.9623 - val_loss: 0.2898 - val_accuracy: 0.8857\n",
      "Epoch 32/40\n",
      "15000/15000 [==============================] - 1s 71us/sample - loss: 0.1231 - accuracy: 0.9656 - val_loss: 0.2930 - val_accuracy: 0.8856\n",
      "Epoch 33/40\n",
      "15000/15000 [==============================] - 1s 71us/sample - loss: 0.1184 - accuracy: 0.9671 - val_loss: 0.2938 - val_accuracy: 0.8853\n",
      "Epoch 34/40\n",
      "15000/15000 [==============================] - 1s 69us/sample - loss: 0.1139 - accuracy: 0.9690 - val_loss: 0.2972 - val_accuracy: 0.8859\n",
      "Epoch 35/40\n",
      "15000/15000 [==============================] - 1s 71us/sample - loss: 0.1094 - accuracy: 0.9705 - val_loss: 0.2992 - val_accuracy: 0.8837\n",
      "Epoch 36/40\n",
      "15000/15000 [==============================] - 1s 69us/sample - loss: 0.1051 - accuracy: 0.9717 - val_loss: 0.3010 - val_accuracy: 0.8845\n",
      "Epoch 37/40\n",
      "15000/15000 [==============================] - 1s 68us/sample - loss: 0.1012 - accuracy: 0.9728 - val_loss: 0.3036 - val_accuracy: 0.8850\n",
      "Epoch 38/40\n",
      "15000/15000 [==============================] - 1s 69us/sample - loss: 0.0978 - accuracy: 0.9740 - val_loss: 0.3113 - val_accuracy: 0.8808\n",
      "Epoch 39/40\n",
      "15000/15000 [==============================] - 1s 69us/sample - loss: 0.0940 - accuracy: 0.9758 - val_loss: 0.3109 - val_accuracy: 0.8822\n",
      "Epoch 40/40\n",
      "15000/15000 [==============================] - 1s 71us/sample - loss: 0.0905 - accuracy: 0.9775 - val_loss: 0.3135 - val_accuracy: 0.8823\n"
     ]
    }
   ],
   "source": [
    "# training\n",
    "history = model.fit(partial_x_train, \n",
    "                    partial_y_train,\n",
    "                    epochs=40, \n",
    "                    batch_size=512, \n",
    "                    validation_data=(x_val, y_val),\n",
    "                    verbose=1)"
   ]
  },
  {
   "cell_type": "markdown",
   "metadata": {},
   "source": [
    "### 模型评估"
   ]
  },
  {
   "cell_type": "code",
   "execution_count": 22,
   "metadata": {},
   "outputs": [
    {
     "name": "stdout",
     "output_type": "stream",
     "text": [
      "25000/1 - 1s - loss: 0.3325 - accuracy: 0.8716\n",
      "[0.3348390439605713, 0.87164]\n"
     ]
    }
   ],
   "source": [
    "# loss accuracy\n",
    "result = model.evaluate(test_data, test_labels, verbose=2)\n",
    "print(result)"
   ]
  },
  {
   "cell_type": "code",
   "execution_count": 23,
   "metadata": {},
   "outputs": [
    {
     "data": {
      "text/plain": [
       "dict_keys(['loss', 'accuracy', 'val_loss', 'val_accuracy'])"
      ]
     },
     "execution_count": 23,
     "metadata": {},
     "output_type": "execute_result"
    }
   ],
   "source": [
    "history_dict = history.history\n",
    "history_dict.keys()"
   ]
  },
  {
   "cell_type": "code",
   "execution_count": 24,
   "metadata": {},
   "outputs": [
    {
     "data": {
      "text/plain": [
       "<matplotlib.legend.Legend at 0x12654316f88>"
      ]
     },
     "execution_count": 24,
     "metadata": {},
     "output_type": "execute_result"
    }
   ],
   "source": [
    "# 训练过程 accuracy 和loss 的变化图表\n",
    "import matplotlib.pyplot as plt \n",
    "\n",
    "acc = history_dict['accuracy']\n",
    "val_acc = history_dict['val_accuracy']\n",
    "\n",
    "loss = history_dict['loss']\n",
    "val_loss = history_dict['val_loss']\n",
    "\n",
    "epochs = range(1, len(acc) +1)\n",
    "\n",
    "plt.plot(epochs, loss, 'bo', label=\"Training loss\")\n",
    "plt.plot(epochs, val_loss, 'b', label=\"Validation loss\")\n",
    "\n",
    "plt.title('Training and validation loss')\n",
    "plt.xlabel('Epochs')\n",
    "plt.ylabel('loss')\n",
    "plt.legend()\n"
   ]
  },
  {
   "cell_type": "code",
   "execution_count": 25,
   "metadata": {},
   "outputs": [
    {
     "data": {
      "text/plain": [
       "<matplotlib.legend.Legend at 0x12652f40748>"
      ]
     },
     "execution_count": 25,
     "metadata": {},
     "output_type": "execute_result"
    },
    {
     "data": {
      "image/png": "[encoded data removed]",
      "text/plain": [
       "<Figure size 432x288 with 1 Axes>"
      ]
     },
     "metadata": {
      "needs_background": "light"
     },
     "output_type": "display_data"
    }
   ],
   "source": [
    "\n",
    "plt.clf()\n",
    "plt.plot(epochs, acc, 'bo', label=\"Training accuracy\")\n",
    "plt.plot(epochs, val_acc, 'b', label=\"Validation accuracy\")\n",
    "\n",
    "plt.title('Training and validation accuracy')\n",
    "plt.xlabel('Epochs')\n",
    "plt.ylabel('accuracy')\n",
    "plt.legend()"
   ]
  },
  {
   "cell_type": "code",
   "execution_count": null,
   "metadata": {},
   "outputs": [],
   "source": []
  },
  {
   "cell_type": "code",
   "execution_count": null,
   "metadata": {},
   "outputs": [],
   "source": []
  },
  {
   "cell_type": "code",
   "execution_count": null,
   "metadata": {},
   "outputs": [],
   "source": []
  }
 ],
 "metadata": {
  "kernelspec": {
   "display_name": "Python 3",
   "language": "python",
   "name": "python3"
  },
  "language_info": {
   "codemirror_mode": {
    "name": "ipython",
    "version": 3
   },
   "file_extension": ".py",
   "mimetype": "text/x-python",
   "name": "python",
   "nbconvert_exporter": "python",
   "pygments_lexer": "ipython3",
   "version": "3.7.4"
  }
 },
 "nbformat": 4,
 "nbformat_minor": 2
}
